{
 "cells": [
  {
   "cell_type": "markdown",
   "metadata": {
    "id": "5gUBH9UHu5Wy"
   },
   "source": [
    "# Using MLE to find Weibull parameters on wind distributions\n",
    "\n",
    "## Index:\n",
    "\n",
    "\n",
    "* ###  1. Introduction\n",
    "* ###  2. Data loading and first overview\n",
    "* ###  3. Probability distribution\n",
    "* ###  4. Visualization of the Probability Distribution Functions\n",
    "* ###  5. MLE Method\n",
    "* ###  6. Power curve"
   ]
  },
  {
   "cell_type": "markdown",
   "metadata": {
    "id": "C9SfX5PrGcgP"
   },
   "source": [
    "## 1. Introduction \n",
    "\n",
    "In this project I use MLE methods to find the Weibull distribution parameters of two wind distribution of different locations. Once the Weibull parameters are estimated, I classified the different wind profiles in on-shore or off-shore configurations.\n",
    "\n",
    "\n",
    "### 1.1 Wind turbines\n",
    "\n",
    "There are several different types of wind turbines, including horizontal axis wind turbines and vertical axis wind turbines.\n",
    "Horizontal axis wind turbines (HAWT) are the most common type of wind turbine and are characterized by their long, horizontal blades. These turbines have a rotor with a horizontal axis of rotation, and the blades are mounted on a horizontal shaft that is perpendicular to the tower. The blades are designed to capture the wind and convert its energy into rotational energy, which is then used to generate electricity. HAWTs are typically used in large wind farms and are capable of generating a significant amount of electricity.\n",
    "\n",
    "Vertical axis wind turbines (VAWT) are characterized by their vertical axis of rotation and their vertical blades. The blades of a VAWT are mounted on a vertical shaft, which is parallel to the tower. VAWTs are less common than HAWTs and are typically used in small-scale wind energy systems. They are less efficient at generating electricity than HAWTs, but they have several advantages, including being more compact and easier to install.\n",
    "\n",
    "Other types of wind turbines include Darrieus wind turbines, which are vertical axis wind turbines with a curved blade design, and Savonius wind turbines, which are vertical axis wind turbines with a simple, scoop-like blade design. \n",
    "\n",
    "The wind turbines described throughout this project are all HAWT.\n",
    "\n",
    "### 1.2 Weibull distributions\n",
    "\n",
    "Weibull distributions are a random variable type of distribution that, amongst other things, can be used to model and adjust the wind distribution of a given location. Accurately finding the parameters and thus performing a great adjustment of the curve is relevant in terms of accurate energy prediction. Weibull parameters in wind distributions are commonly taken into account for the selection of the wind turbine model as well as the design of wind farms. Different wind turbine models present different features with different wind operational ranges and different power output curves. Effectively, energy generation is always the factor to be maximized. \n",
    "\n",
    "The Weibull distribution is often used in reliability engineering, as it can model both accelerating and decelerating failure rates, and it can accurately fit a wide range of data sets. It is also often used in other fields, such as finance, economics, and the social sciences, to model the occurrence and timing of events.\n",
    "\n",
    "### 1.3 Motivation to accurately estimate Weibull parameters\n",
    "\n",
    "1. Better annual energy predictions\n",
    "2. Optimal energy production\n",
    "3. Minimizing economic losses\n",
    "4. Better global coordination with Smart Grids \n"
   ]
  },
  {
   "cell_type": "markdown",
   "metadata": {},
   "source": [
    "<div>\n",
    "<img src=\"https://i.imgur.com/ZcRLBqy.jpg\" width=\"1300\"/>\n",
    "</div>"
   ]
  },
  {
   "cell_type": "markdown",
   "metadata": {
    "id": "sLKeW6Wgu5XA"
   },
   "source": [
    "## 2. Data loading and first overview\n",
    "\n",
    "The data is stored in `.csv` files containing a single column with the total number of hours per year for each given wind speed. The wind data is distributed from 1 to 33 m/s. Which means the first row at index `0` actually accounts for the total annual hours of wind recorded at 1 m/s. The reason why there is no data collected for 0 m/s is because of the fact that it is irrelevant to the energy production since the wind speed needs to be larger than 0 m/s. \n"
   ]
  },
  {
   "cell_type": "markdown",
   "metadata": {
    "id": "ENm1oLpXu5XC"
   },
   "source": [
    "### 2.1 Loading the data\n",
    "\n",
    "First we have to load the necessary libraries. "
   ]
  },
  {
   "cell_type": "code",
   "execution_count": 1,
   "metadata": {
    "id": "Qlf0ick3u5XE"
   },
   "outputs": [],
   "source": [
    "# importing the necessary libraries\n",
    "import numpy as np\n",
    "import pandas as pd\n",
    "from pandas import Series,DataFrame\n",
    "import matplotlib.pyplot as plt\n",
    "import seaborn as sns\n",
    "from ipywidgets import interact, interactive, fixed, interact_manual\n",
    "import ipywidgets as widgets\n",
    "\n",
    "# setting white grid background\n",
    "sns.set_style('whitegrid')\n",
    "#%matplotlib notebook\n",
    "%matplotlib inline"
   ]
  },
  {
   "cell_type": "markdown",
   "metadata": {
    "id": "mGwBxS0RyxB2"
   },
   "source": [
    "The next step is to access the wind distribution data set and load the data."
   ]
  },
  {
   "cell_type": "markdown",
   "metadata": {},
   "source": [
    "### 2.2 Overview of the data"
   ]
  },
  {
   "cell_type": "code",
   "execution_count": 2,
   "metadata": {
    "colab": {
     "base_uri": "https://localhost:8080/",
     "height": 206
    },
    "id": "mMhSzIgXu5XH",
    "outputId": "c389ce31-d749-4baf-c3dc-c9b6bc578bc5"
   },
   "outputs": [],
   "source": [
    "df1 = pd.read_csv(r'wind_1.csv')\n",
    "df2 = pd.read_csv(r'wind_2.csv')"
   ]
  },
  {
   "cell_type": "markdown",
   "metadata": {},
   "source": [
    "#### 2.2.1 First data set (wind_1.csv) "
   ]
  },
  {
   "cell_type": "code",
   "execution_count": 3,
   "metadata": {
    "scrolled": true
   },
   "outputs": [
    {
     "data": {
      "text/html": [
       "<div>\n",
       "<style scoped>\n",
       "    .dataframe tbody tr th:only-of-type {\n",
       "        vertical-align: middle;\n",
       "    }\n",
       "\n",
       "    .dataframe tbody tr th {\n",
       "        vertical-align: top;\n",
       "    }\n",
       "\n",
       "    .dataframe thead th {\n",
       "        text-align: right;\n",
       "    }\n",
       "</style>\n",
       "<table border=\"1\" class=\"dataframe\">\n",
       "  <thead>\n",
       "    <tr style=\"text-align: right;\">\n",
       "      <th></th>\n",
       "      <th>Hours per year [h]</th>\n",
       "    </tr>\n",
       "  </thead>\n",
       "  <tbody>\n",
       "    <tr>\n",
       "      <th>0</th>\n",
       "      <td>134.99</td>\n",
       "    </tr>\n",
       "    <tr>\n",
       "      <th>1</th>\n",
       "      <td>263.76</td>\n",
       "    </tr>\n",
       "    <tr>\n",
       "      <th>2</th>\n",
       "      <td>380.58</td>\n",
       "    </tr>\n",
       "    <tr>\n",
       "      <th>3</th>\n",
       "      <td>480.59</td>\n",
       "    </tr>\n",
       "    <tr>\n",
       "      <th>4</th>\n",
       "      <td>560.19</td>\n",
       "    </tr>\n",
       "    <tr>\n",
       "      <th>5</th>\n",
       "      <td>617.19</td>\n",
       "    </tr>\n",
       "    <tr>\n",
       "      <th>6</th>\n",
       "      <td>650.92</td>\n",
       "    </tr>\n",
       "    <tr>\n",
       "      <th>7</th>\n",
       "      <td>662.12</td>\n",
       "    </tr>\n",
       "    <tr>\n",
       "      <th>8</th>\n",
       "      <td>652.77</td>\n",
       "    </tr>\n",
       "    <tr>\n",
       "      <th>9</th>\n",
       "      <td>625.81</td>\n",
       "    </tr>\n",
       "    <tr>\n",
       "      <th>10</th>\n",
       "      <td>584.82</td>\n",
       "    </tr>\n",
       "    <tr>\n",
       "      <th>11</th>\n",
       "      <td>533.64</td>\n",
       "    </tr>\n",
       "    <tr>\n",
       "      <th>12</th>\n",
       "      <td>476.10</td>\n",
       "    </tr>\n",
       "    <tr>\n",
       "      <th>13</th>\n",
       "      <td>415.75</td>\n",
       "    </tr>\n",
       "    <tr>\n",
       "      <th>14</th>\n",
       "      <td>355.63</td>\n",
       "    </tr>\n",
       "    <tr>\n",
       "      <th>15</th>\n",
       "      <td>298.19</td>\n",
       "    </tr>\n",
       "    <tr>\n",
       "      <th>16</th>\n",
       "      <td>245.21</td>\n",
       "    </tr>\n",
       "    <tr>\n",
       "      <th>17</th>\n",
       "      <td>197.85</td>\n",
       "    </tr>\n",
       "    <tr>\n",
       "      <th>18</th>\n",
       "      <td>156.69</td>\n",
       "    </tr>\n",
       "    <tr>\n",
       "      <th>19</th>\n",
       "      <td>121.84</td>\n",
       "    </tr>\n",
       "    <tr>\n",
       "      <th>20</th>\n",
       "      <td>93.05</td>\n",
       "    </tr>\n",
       "    <tr>\n",
       "      <th>21</th>\n",
       "      <td>69.81</td>\n",
       "    </tr>\n",
       "    <tr>\n",
       "      <th>22</th>\n",
       "      <td>51.46</td>\n",
       "    </tr>\n",
       "    <tr>\n",
       "      <th>23</th>\n",
       "      <td>37.28</td>\n",
       "    </tr>\n",
       "    <tr>\n",
       "      <th>24</th>\n",
       "      <td>26.54</td>\n",
       "    </tr>\n",
       "    <tr>\n",
       "      <th>25</th>\n",
       "      <td>18.58</td>\n",
       "    </tr>\n",
       "    <tr>\n",
       "      <th>26</th>\n",
       "      <td>12.78</td>\n",
       "    </tr>\n",
       "    <tr>\n",
       "      <th>27</th>\n",
       "      <td>8.65</td>\n",
       "    </tr>\n",
       "    <tr>\n",
       "      <th>28</th>\n",
       "      <td>5.75</td>\n",
       "    </tr>\n",
       "    <tr>\n",
       "      <th>29</th>\n",
       "      <td>3.76</td>\n",
       "    </tr>\n",
       "    <tr>\n",
       "      <th>30</th>\n",
       "      <td>2.42</td>\n",
       "    </tr>\n",
       "    <tr>\n",
       "      <th>31</th>\n",
       "      <td>1.53</td>\n",
       "    </tr>\n",
       "    <tr>\n",
       "      <th>32</th>\n",
       "      <td>0.95</td>\n",
       "    </tr>\n",
       "  </tbody>\n",
       "</table>\n",
       "</div>"
      ],
      "text/plain": [
       "    Hours per year [h]\n",
       "0               134.99\n",
       "1               263.76\n",
       "2               380.58\n",
       "3               480.59\n",
       "4               560.19\n",
       "5               617.19\n",
       "6               650.92\n",
       "7               662.12\n",
       "8               652.77\n",
       "9               625.81\n",
       "10              584.82\n",
       "11              533.64\n",
       "12              476.10\n",
       "13              415.75\n",
       "14              355.63\n",
       "15              298.19\n",
       "16              245.21\n",
       "17              197.85\n",
       "18              156.69\n",
       "19              121.84\n",
       "20               93.05\n",
       "21               69.81\n",
       "22               51.46\n",
       "23               37.28\n",
       "24               26.54\n",
       "25               18.58\n",
       "26               12.78\n",
       "27                8.65\n",
       "28                5.75\n",
       "29                3.76\n",
       "30                2.42\n",
       "31                1.53\n",
       "32                0.95"
      ]
     },
     "execution_count": 3,
     "metadata": {},
     "output_type": "execute_result"
    }
   ],
   "source": [
    "df1"
   ]
  },
  {
   "cell_type": "markdown",
   "metadata": {},
   "source": [
    "We have a quick look at some statistics of the data set."
   ]
  },
  {
   "cell_type": "code",
   "execution_count": 4,
   "metadata": {},
   "outputs": [
    {
     "data": {
      "text/html": [
       "<div>\n",
       "<style scoped>\n",
       "    .dataframe tbody tr th:only-of-type {\n",
       "        vertical-align: middle;\n",
       "    }\n",
       "\n",
       "    .dataframe tbody tr th {\n",
       "        vertical-align: top;\n",
       "    }\n",
       "\n",
       "    .dataframe thead th {\n",
       "        text-align: right;\n",
       "    }\n",
       "</style>\n",
       "<table border=\"1\" class=\"dataframe\">\n",
       "  <thead>\n",
       "    <tr style=\"text-align: right;\">\n",
       "      <th></th>\n",
       "      <th>Hours per year [h]</th>\n",
       "    </tr>\n",
       "  </thead>\n",
       "  <tbody>\n",
       "    <tr>\n",
       "      <th>count</th>\n",
       "      <td>33.000000</td>\n",
       "    </tr>\n",
       "    <tr>\n",
       "      <th>mean</th>\n",
       "      <td>265.066667</td>\n",
       "    </tr>\n",
       "    <tr>\n",
       "      <th>std</th>\n",
       "      <td>244.876858</td>\n",
       "    </tr>\n",
       "    <tr>\n",
       "      <th>min</th>\n",
       "      <td>0.950000</td>\n",
       "    </tr>\n",
       "    <tr>\n",
       "      <th>25%</th>\n",
       "      <td>26.540000</td>\n",
       "    </tr>\n",
       "    <tr>\n",
       "      <th>50%</th>\n",
       "      <td>197.850000</td>\n",
       "    </tr>\n",
       "    <tr>\n",
       "      <th>75%</th>\n",
       "      <td>480.590000</td>\n",
       "    </tr>\n",
       "    <tr>\n",
       "      <th>max</th>\n",
       "      <td>662.120000</td>\n",
       "    </tr>\n",
       "  </tbody>\n",
       "</table>\n",
       "</div>"
      ],
      "text/plain": [
       "       Hours per year [h]\n",
       "count           33.000000\n",
       "mean           265.066667\n",
       "std            244.876858\n",
       "min              0.950000\n",
       "25%             26.540000\n",
       "50%            197.850000\n",
       "75%            480.590000\n",
       "max            662.120000"
      ]
     },
     "execution_count": 4,
     "metadata": {},
     "output_type": "execute_result"
    }
   ],
   "source": [
    "df1.describe()"
   ]
  },
  {
   "cell_type": "markdown",
   "metadata": {},
   "source": [
    "As we discussed before, we need to shift the data from the dataset to match with the corresponding index values"
   ]
  },
  {
   "cell_type": "code",
   "execution_count": 5,
   "metadata": {
    "scrolled": true
   },
   "outputs": [],
   "source": [
    "df1=df1.shift(1)"
   ]
  },
  {
   "cell_type": "code",
   "execution_count": 6,
   "metadata": {
    "scrolled": true
   },
   "outputs": [
    {
     "data": {
      "text/plain": [
       "RangeIndex(start=0, stop=33, step=1)"
      ]
     },
     "execution_count": 6,
     "metadata": {},
     "output_type": "execute_result"
    }
   ],
   "source": [
    "df1.index"
   ]
  },
  {
   "cell_type": "code",
   "execution_count": 7,
   "metadata": {},
   "outputs": [
    {
     "data": {
      "text/html": [
       "<div>\n",
       "<style scoped>\n",
       "    .dataframe tbody tr th:only-of-type {\n",
       "        vertical-align: middle;\n",
       "    }\n",
       "\n",
       "    .dataframe tbody tr th {\n",
       "        vertical-align: top;\n",
       "    }\n",
       "\n",
       "    .dataframe thead th {\n",
       "        text-align: right;\n",
       "    }\n",
       "</style>\n",
       "<table border=\"1\" class=\"dataframe\">\n",
       "  <thead>\n",
       "    <tr style=\"text-align: right;\">\n",
       "      <th></th>\n",
       "      <th>Hours per year [h]</th>\n",
       "    </tr>\n",
       "  </thead>\n",
       "  <tbody>\n",
       "    <tr>\n",
       "      <th>0</th>\n",
       "      <td>NaN</td>\n",
       "    </tr>\n",
       "    <tr>\n",
       "      <th>1</th>\n",
       "      <td>134.99</td>\n",
       "    </tr>\n",
       "    <tr>\n",
       "      <th>2</th>\n",
       "      <td>263.76</td>\n",
       "    </tr>\n",
       "    <tr>\n",
       "      <th>3</th>\n",
       "      <td>380.58</td>\n",
       "    </tr>\n",
       "    <tr>\n",
       "      <th>4</th>\n",
       "      <td>480.59</td>\n",
       "    </tr>\n",
       "  </tbody>\n",
       "</table>\n",
       "</div>"
      ],
      "text/plain": [
       "   Hours per year [h]\n",
       "0                 NaN\n",
       "1              134.99\n",
       "2              263.76\n",
       "3              380.58\n",
       "4              480.59"
      ]
     },
     "execution_count": 7,
     "metadata": {},
     "output_type": "execute_result"
    }
   ],
   "source": [
    "df1.head()"
   ]
  },
  {
   "cell_type": "markdown",
   "metadata": {},
   "source": [
    "Now our data in the ``Hours per year`` colum matches the wind speed displayed by the index values. Next, we will create a new column containing the index values."
   ]
  },
  {
   "cell_type": "code",
   "execution_count": 8,
   "metadata": {},
   "outputs": [],
   "source": [
    "df1[\"wind_speed\"]=df1.index"
   ]
  },
  {
   "cell_type": "code",
   "execution_count": 9,
   "metadata": {
    "scrolled": true
   },
   "outputs": [
    {
     "data": {
      "text/html": [
       "<div>\n",
       "<style scoped>\n",
       "    .dataframe tbody tr th:only-of-type {\n",
       "        vertical-align: middle;\n",
       "    }\n",
       "\n",
       "    .dataframe tbody tr th {\n",
       "        vertical-align: top;\n",
       "    }\n",
       "\n",
       "    .dataframe thead th {\n",
       "        text-align: right;\n",
       "    }\n",
       "</style>\n",
       "<table border=\"1\" class=\"dataframe\">\n",
       "  <thead>\n",
       "    <tr style=\"text-align: right;\">\n",
       "      <th></th>\n",
       "      <th>Hours per year [h]</th>\n",
       "      <th>wind_speed</th>\n",
       "    </tr>\n",
       "  </thead>\n",
       "  <tbody>\n",
       "    <tr>\n",
       "      <th>0</th>\n",
       "      <td>NaN</td>\n",
       "      <td>0</td>\n",
       "    </tr>\n",
       "    <tr>\n",
       "      <th>1</th>\n",
       "      <td>134.99</td>\n",
       "      <td>1</td>\n",
       "    </tr>\n",
       "    <tr>\n",
       "      <th>2</th>\n",
       "      <td>263.76</td>\n",
       "      <td>2</td>\n",
       "    </tr>\n",
       "    <tr>\n",
       "      <th>3</th>\n",
       "      <td>380.58</td>\n",
       "      <td>3</td>\n",
       "    </tr>\n",
       "    <tr>\n",
       "      <th>4</th>\n",
       "      <td>480.59</td>\n",
       "      <td>4</td>\n",
       "    </tr>\n",
       "  </tbody>\n",
       "</table>\n",
       "</div>"
      ],
      "text/plain": [
       "   Hours per year [h]  wind_speed\n",
       "0                 NaN           0\n",
       "1              134.99           1\n",
       "2              263.76           2\n",
       "3              380.58           3\n",
       "4              480.59           4"
      ]
     },
     "execution_count": 9,
     "metadata": {},
     "output_type": "execute_result"
    }
   ],
   "source": [
    "df1.head()"
   ]
  },
  {
   "cell_type": "markdown",
   "metadata": {},
   "source": [
    "We drop the first row since we will not be working with the 0 m/s wind speed value"
   ]
  },
  {
   "cell_type": "code",
   "execution_count": 10,
   "metadata": {},
   "outputs": [],
   "source": [
    "df1=df1.drop(df1.index[0])"
   ]
  },
  {
   "cell_type": "code",
   "execution_count": 11,
   "metadata": {
    "scrolled": true
   },
   "outputs": [
    {
     "data": {
      "text/html": [
       "<div>\n",
       "<style scoped>\n",
       "    .dataframe tbody tr th:only-of-type {\n",
       "        vertical-align: middle;\n",
       "    }\n",
       "\n",
       "    .dataframe tbody tr th {\n",
       "        vertical-align: top;\n",
       "    }\n",
       "\n",
       "    .dataframe thead th {\n",
       "        text-align: right;\n",
       "    }\n",
       "</style>\n",
       "<table border=\"1\" class=\"dataframe\">\n",
       "  <thead>\n",
       "    <tr style=\"text-align: right;\">\n",
       "      <th></th>\n",
       "      <th>Hours per year [h]</th>\n",
       "      <th>wind_speed</th>\n",
       "    </tr>\n",
       "  </thead>\n",
       "  <tbody>\n",
       "    <tr>\n",
       "      <th>1</th>\n",
       "      <td>134.99</td>\n",
       "      <td>1</td>\n",
       "    </tr>\n",
       "    <tr>\n",
       "      <th>2</th>\n",
       "      <td>263.76</td>\n",
       "      <td>2</td>\n",
       "    </tr>\n",
       "    <tr>\n",
       "      <th>3</th>\n",
       "      <td>380.58</td>\n",
       "      <td>3</td>\n",
       "    </tr>\n",
       "    <tr>\n",
       "      <th>4</th>\n",
       "      <td>480.59</td>\n",
       "      <td>4</td>\n",
       "    </tr>\n",
       "    <tr>\n",
       "      <th>5</th>\n",
       "      <td>560.19</td>\n",
       "      <td>5</td>\n",
       "    </tr>\n",
       "  </tbody>\n",
       "</table>\n",
       "</div>"
      ],
      "text/plain": [
       "   Hours per year [h]  wind_speed\n",
       "1              134.99           1\n",
       "2              263.76           2\n",
       "3              380.58           3\n",
       "4              480.59           4\n",
       "5              560.19           5"
      ]
     },
     "execution_count": 11,
     "metadata": {},
     "output_type": "execute_result"
    }
   ],
   "source": [
    "df1.head()"
   ]
  },
  {
   "cell_type": "markdown",
   "metadata": {},
   "source": [
    "We rename the `Hours per year` column to `annual_h`"
   ]
  },
  {
   "cell_type": "code",
   "execution_count": 12,
   "metadata": {},
   "outputs": [],
   "source": [
    "df1 = df1.rename(columns={'Hours per year [h]': 'annual_h'})"
   ]
  },
  {
   "cell_type": "code",
   "execution_count": 13,
   "metadata": {
    "scrolled": true
   },
   "outputs": [
    {
     "data": {
      "text/html": [
       "<div>\n",
       "<style scoped>\n",
       "    .dataframe tbody tr th:only-of-type {\n",
       "        vertical-align: middle;\n",
       "    }\n",
       "\n",
       "    .dataframe tbody tr th {\n",
       "        vertical-align: top;\n",
       "    }\n",
       "\n",
       "    .dataframe thead th {\n",
       "        text-align: right;\n",
       "    }\n",
       "</style>\n",
       "<table border=\"1\" class=\"dataframe\">\n",
       "  <thead>\n",
       "    <tr style=\"text-align: right;\">\n",
       "      <th></th>\n",
       "      <th>annual_h</th>\n",
       "      <th>wind_speed</th>\n",
       "    </tr>\n",
       "  </thead>\n",
       "  <tbody>\n",
       "    <tr>\n",
       "      <th>1</th>\n",
       "      <td>134.99</td>\n",
       "      <td>1</td>\n",
       "    </tr>\n",
       "    <tr>\n",
       "      <th>2</th>\n",
       "      <td>263.76</td>\n",
       "      <td>2</td>\n",
       "    </tr>\n",
       "    <tr>\n",
       "      <th>3</th>\n",
       "      <td>380.58</td>\n",
       "      <td>3</td>\n",
       "    </tr>\n",
       "    <tr>\n",
       "      <th>4</th>\n",
       "      <td>480.59</td>\n",
       "      <td>4</td>\n",
       "    </tr>\n",
       "    <tr>\n",
       "      <th>5</th>\n",
       "      <td>560.19</td>\n",
       "      <td>5</td>\n",
       "    </tr>\n",
       "  </tbody>\n",
       "</table>\n",
       "</div>"
      ],
      "text/plain": [
       "   annual_h  wind_speed\n",
       "1    134.99           1\n",
       "2    263.76           2\n",
       "3    380.58           3\n",
       "4    480.59           4\n",
       "5    560.19           5"
      ]
     },
     "execution_count": 13,
     "metadata": {},
     "output_type": "execute_result"
    }
   ],
   "source": [
    "df1.head()"
   ]
  },
  {
   "cell_type": "markdown",
   "metadata": {},
   "source": [
    "#### 2.2.2 Second data set (wind_2.csv) "
   ]
  },
  {
   "cell_type": "code",
   "execution_count": 14,
   "metadata": {
    "scrolled": true
   },
   "outputs": [
    {
     "data": {
      "text/html": [
       "<div>\n",
       "<style scoped>\n",
       "    .dataframe tbody tr th:only-of-type {\n",
       "        vertical-align: middle;\n",
       "    }\n",
       "\n",
       "    .dataframe tbody tr th {\n",
       "        vertical-align: top;\n",
       "    }\n",
       "\n",
       "    .dataframe thead th {\n",
       "        text-align: right;\n",
       "    }\n",
       "</style>\n",
       "<table border=\"1\" class=\"dataframe\">\n",
       "  <thead>\n",
       "    <tr style=\"text-align: right;\">\n",
       "      <th></th>\n",
       "      <th>Wind speed [m/s]</th>\n",
       "      <th>Hours per year [h]</th>\n",
       "    </tr>\n",
       "  </thead>\n",
       "  <tbody>\n",
       "    <tr>\n",
       "      <th>0</th>\n",
       "      <td>1</td>\n",
       "      <td>331.83</td>\n",
       "    </tr>\n",
       "    <tr>\n",
       "      <th>1</th>\n",
       "      <td>2</td>\n",
       "      <td>617.99</td>\n",
       "    </tr>\n",
       "    <tr>\n",
       "      <th>2</th>\n",
       "      <td>3</td>\n",
       "      <td>836.33</td>\n",
       "    </tr>\n",
       "    <tr>\n",
       "      <th>3</th>\n",
       "      <td>4</td>\n",
       "      <td>971.76</td>\n",
       "    </tr>\n",
       "    <tr>\n",
       "      <th>4</th>\n",
       "      <td>5</td>\n",
       "      <td>1021.60</td>\n",
       "    </tr>\n",
       "  </tbody>\n",
       "</table>\n",
       "</div>"
      ],
      "text/plain": [
       "   Wind speed [m/s]  Hours per year [h]\n",
       "0                 1              331.83\n",
       "1                 2              617.99\n",
       "2                 3              836.33\n",
       "3                 4              971.76\n",
       "4                 5             1021.60"
      ]
     },
     "execution_count": 14,
     "metadata": {},
     "output_type": "execute_result"
    }
   ],
   "source": [
    "df2.head()"
   ]
  },
  {
   "cell_type": "markdown",
   "metadata": {},
   "source": [
    "We rename the columns"
   ]
  },
  {
   "cell_type": "code",
   "execution_count": 15,
   "metadata": {},
   "outputs": [],
   "source": [
    "df2 = df2.rename(columns={'Hours per year [h]': 'annual_h',\"Wind speed [m/s]\":\"wind_speed\"})"
   ]
  },
  {
   "cell_type": "code",
   "execution_count": 16,
   "metadata": {},
   "outputs": [
    {
     "data": {
      "text/html": [
       "<div>\n",
       "<style scoped>\n",
       "    .dataframe tbody tr th:only-of-type {\n",
       "        vertical-align: middle;\n",
       "    }\n",
       "\n",
       "    .dataframe tbody tr th {\n",
       "        vertical-align: top;\n",
       "    }\n",
       "\n",
       "    .dataframe thead th {\n",
       "        text-align: right;\n",
       "    }\n",
       "</style>\n",
       "<table border=\"1\" class=\"dataframe\">\n",
       "  <thead>\n",
       "    <tr style=\"text-align: right;\">\n",
       "      <th></th>\n",
       "      <th>wind_speed</th>\n",
       "      <th>annual_h</th>\n",
       "    </tr>\n",
       "  </thead>\n",
       "  <tbody>\n",
       "    <tr>\n",
       "      <th>0</th>\n",
       "      <td>1</td>\n",
       "      <td>331.83</td>\n",
       "    </tr>\n",
       "    <tr>\n",
       "      <th>1</th>\n",
       "      <td>2</td>\n",
       "      <td>617.99</td>\n",
       "    </tr>\n",
       "    <tr>\n",
       "      <th>2</th>\n",
       "      <td>3</td>\n",
       "      <td>836.33</td>\n",
       "    </tr>\n",
       "    <tr>\n",
       "      <th>3</th>\n",
       "      <td>4</td>\n",
       "      <td>971.76</td>\n",
       "    </tr>\n",
       "    <tr>\n",
       "      <th>4</th>\n",
       "      <td>5</td>\n",
       "      <td>1021.60</td>\n",
       "    </tr>\n",
       "  </tbody>\n",
       "</table>\n",
       "</div>"
      ],
      "text/plain": [
       "   wind_speed  annual_h\n",
       "0           1    331.83\n",
       "1           2    617.99\n",
       "2           3    836.33\n",
       "3           4    971.76\n",
       "4           5   1021.60"
      ]
     },
     "execution_count": 16,
     "metadata": {},
     "output_type": "execute_result"
    }
   ],
   "source": [
    "df2.head()"
   ]
  },
  {
   "cell_type": "markdown",
   "metadata": {},
   "source": [
    "We swap the columns in the same order as the first wind distribution"
   ]
  },
  {
   "cell_type": "code",
   "execution_count": 17,
   "metadata": {},
   "outputs": [
    {
     "data": {
      "text/html": [
       "<div>\n",
       "<style scoped>\n",
       "    .dataframe tbody tr th:only-of-type {\n",
       "        vertical-align: middle;\n",
       "    }\n",
       "\n",
       "    .dataframe tbody tr th {\n",
       "        vertical-align: top;\n",
       "    }\n",
       "\n",
       "    .dataframe thead th {\n",
       "        text-align: right;\n",
       "    }\n",
       "</style>\n",
       "<table border=\"1\" class=\"dataframe\">\n",
       "  <thead>\n",
       "    <tr style=\"text-align: right;\">\n",
       "      <th></th>\n",
       "      <th>annual_h</th>\n",
       "      <th>wind_speed</th>\n",
       "    </tr>\n",
       "  </thead>\n",
       "  <tbody>\n",
       "    <tr>\n",
       "      <th>0</th>\n",
       "      <td>331.83</td>\n",
       "      <td>1</td>\n",
       "    </tr>\n",
       "    <tr>\n",
       "      <th>1</th>\n",
       "      <td>617.99</td>\n",
       "      <td>2</td>\n",
       "    </tr>\n",
       "    <tr>\n",
       "      <th>2</th>\n",
       "      <td>836.33</td>\n",
       "      <td>3</td>\n",
       "    </tr>\n",
       "    <tr>\n",
       "      <th>3</th>\n",
       "      <td>971.76</td>\n",
       "      <td>4</td>\n",
       "    </tr>\n",
       "    <tr>\n",
       "      <th>4</th>\n",
       "      <td>1021.60</td>\n",
       "      <td>5</td>\n",
       "    </tr>\n",
       "  </tbody>\n",
       "</table>\n",
       "</div>"
      ],
      "text/plain": [
       "   annual_h  wind_speed\n",
       "0    331.83           1\n",
       "1    617.99           2\n",
       "2    836.33           3\n",
       "3    971.76           4\n",
       "4   1021.60           5"
      ]
     },
     "execution_count": 17,
     "metadata": {},
     "output_type": "execute_result"
    }
   ],
   "source": [
    "df2=df2[[\"annual_h\",\"wind_speed\"]]\n",
    "df2.head()"
   ]
  },
  {
   "cell_type": "markdown",
   "metadata": {
    "id": "3aWlkOnPu5XI"
   },
   "source": [
    "### 2.3 Wind distributions\n",
    "\n",
    "We plot the annual hours distribution. We can observe the following distributions clearly follow a Weibull patter in both of our data sets."
   ]
  },
  {
   "cell_type": "code",
   "execution_count": 18,
   "metadata": {},
   "outputs": [
    {
     "data": {
      "image/png": "[encoded data removed]",
      "text/plain": [
       "<Figure size 1080x288 with 2 Axes>"
      ]
     },
     "metadata": {
      "needs_background": "dark"
     },
     "output_type": "display_data"
    }
   ],
   "source": [
    "fig, (ax1, ax2) = plt.subplots(nrows=1, ncols=2,\n",
    "                                        figsize=(15,4))\n",
    "ax1.bar(df1['wind_speed'],\n",
    "        df1['annual_h'],\n",
    "        color='#90EE90')\n",
    "\n",
    "ax2.bar(df2['wind_speed'],\n",
    "        df2['annual_h'],\n",
    "        color='#FFA500')\n",
    "for location in ['left', 'right', 'top', 'bottom']:\n",
    "    ax1.spines[location].set_visible(False)\n",
    "    ax2.spines[location].set_visible(False)\n",
    "    \n",
    "for ax in [ax1, ax2]:\n",
    "    ax.tick_params(top=False, left=False)\n",
    "    ax.tick_params(axis='x', colors='grey')\n",
    "    ax.tick_params(axis='y', colors='grey')\n",
    "    ax.set_xlabel(\"wind speed (m/s)\", color=\"grey\")\n",
    "    ax.set_ylabel(\"hours\", color=\"grey\")\n",
    "    \n",
    "ax1.text(x=0, y=750,\n",
    "        s='Annual total wind generation hours',\n",
    "        weight='normal', size=15, color= \"grey\")\n",
    "\n",
    "plt.show()"
   ]
  },
  {
   "cell_type": "markdown",
   "metadata": {
    "id": "KVEMHrDQu5XT"
   },
   "source": [
    "## 3. Probability distribution\n",
    "\n",
    "The probability density function of a Weibull random variable is defined by the following expression."
   ]
  },
  {
   "cell_type": "markdown",
   "metadata": {},
   "source": [
    "<div>\n",
    "<img src=\"https://i.imgur.com/yENhgsV.png\" width=\"450\"/>\n",
    "</div>"
   ]
  },
  {
   "cell_type": "markdown",
   "metadata": {},
   "source": [
    "where x is the random variable, λ is the scale parameter, and k is the shape parameter.\n",
    "\n",
    "### 3.1 Shape and scale parameters of the Weibull distribution\n",
    "The Weibull distribution is defined by two parameters: shape and scale. The shape parameter determines the shape of the distribution, and the scale parameter determines the location and spread of the distribution. The Weibull distribution is often used to model the failure times of materials, components, and systems, as it can accurately describe a wide range of failure rates and shapes.\n",
    "\n",
    "In order to find the parameters that define our Weibull curve we need to convert our datasets in terms of probability. To do so we will have to divide each value on the `annual_h` column by the total sum of hours recorded for all the different wind speeds. By probability definitions the cumulative frequency of both distributions must add up to 1, we will check that as well."
   ]
  },
  {
   "cell_type": "markdown",
   "metadata": {},
   "source": [
    "### 3.2 Defining the probability"
   ]
  },
  {
   "cell_type": "markdown",
   "metadata": {},
   "source": [
    "#### 3.2.1 First wind distribution\n"
   ]
  },
  {
   "cell_type": "code",
   "execution_count": 19,
   "metadata": {},
   "outputs": [
    {
     "data": {
      "text/plain": [
       "8746.25"
      ]
     },
     "execution_count": 19,
     "metadata": {},
     "output_type": "execute_result"
    }
   ],
   "source": [
    "annual_sum_1=df1[\"annual_h\"].sum()\n",
    "annual_sum_1"
   ]
  },
  {
   "cell_type": "code",
   "execution_count": 20,
   "metadata": {
    "scrolled": true
   },
   "outputs": [
    {
     "data": {
      "text/html": [
       "<div>\n",
       "<style scoped>\n",
       "    .dataframe tbody tr th:only-of-type {\n",
       "        vertical-align: middle;\n",
       "    }\n",
       "\n",
       "    .dataframe tbody tr th {\n",
       "        vertical-align: top;\n",
       "    }\n",
       "\n",
       "    .dataframe thead th {\n",
       "        text-align: right;\n",
       "    }\n",
       "</style>\n",
       "<table border=\"1\" class=\"dataframe\">\n",
       "  <thead>\n",
       "    <tr style=\"text-align: right;\">\n",
       "      <th></th>\n",
       "      <th>annual_h</th>\n",
       "      <th>wind_speed</th>\n",
       "      <th>probability</th>\n",
       "    </tr>\n",
       "  </thead>\n",
       "  <tbody>\n",
       "    <tr>\n",
       "      <th>1</th>\n",
       "      <td>134.99</td>\n",
       "      <td>1</td>\n",
       "      <td>0.015434</td>\n",
       "    </tr>\n",
       "    <tr>\n",
       "      <th>2</th>\n",
       "      <td>263.76</td>\n",
       "      <td>2</td>\n",
       "      <td>0.030157</td>\n",
       "    </tr>\n",
       "    <tr>\n",
       "      <th>3</th>\n",
       "      <td>380.58</td>\n",
       "      <td>3</td>\n",
       "      <td>0.043514</td>\n",
       "    </tr>\n",
       "    <tr>\n",
       "      <th>4</th>\n",
       "      <td>480.59</td>\n",
       "      <td>4</td>\n",
       "      <td>0.054948</td>\n",
       "    </tr>\n",
       "    <tr>\n",
       "      <th>5</th>\n",
       "      <td>560.19</td>\n",
       "      <td>5</td>\n",
       "      <td>0.064049</td>\n",
       "    </tr>\n",
       "  </tbody>\n",
       "</table>\n",
       "</div>"
      ],
      "text/plain": [
       "   annual_h  wind_speed  probability\n",
       "1    134.99           1     0.015434\n",
       "2    263.76           2     0.030157\n",
       "3    380.58           3     0.043514\n",
       "4    480.59           4     0.054948\n",
       "5    560.19           5     0.064049"
      ]
     },
     "execution_count": 20,
     "metadata": {},
     "output_type": "execute_result"
    }
   ],
   "source": [
    "df1[\"probability\"]=df1[\"annual_h\"]/annual_sum_1\n",
    "df1.head()"
   ]
  },
  {
   "cell_type": "code",
   "execution_count": 21,
   "metadata": {},
   "outputs": [
    {
     "data": {
      "text/plain": [
       "0.9999999999999999"
      ]
     },
     "execution_count": 21,
     "metadata": {},
     "output_type": "execute_result"
    }
   ],
   "source": [
    "df1.probability.sum()"
   ]
  },
  {
   "cell_type": "markdown",
   "metadata": {},
   "source": [
    "#### 3.2.2 Second wind distribution"
   ]
  },
  {
   "cell_type": "code",
   "execution_count": 22,
   "metadata": {},
   "outputs": [
    {
     "data": {
      "text/plain": [
       "8730.59"
      ]
     },
     "execution_count": 22,
     "metadata": {},
     "output_type": "execute_result"
    }
   ],
   "source": [
    "annual_sum_2=df2[\"annual_h\"].sum()\n",
    "annual_sum_2"
   ]
  },
  {
   "cell_type": "code",
   "execution_count": 23,
   "metadata": {
    "scrolled": true
   },
   "outputs": [
    {
     "data": {
      "text/html": [
       "<div>\n",
       "<style scoped>\n",
       "    .dataframe tbody tr th:only-of-type {\n",
       "        vertical-align: middle;\n",
       "    }\n",
       "\n",
       "    .dataframe tbody tr th {\n",
       "        vertical-align: top;\n",
       "    }\n",
       "\n",
       "    .dataframe thead th {\n",
       "        text-align: right;\n",
       "    }\n",
       "</style>\n",
       "<table border=\"1\" class=\"dataframe\">\n",
       "  <thead>\n",
       "    <tr style=\"text-align: right;\">\n",
       "      <th></th>\n",
       "      <th>annual_h</th>\n",
       "      <th>wind_speed</th>\n",
       "      <th>probability</th>\n",
       "    </tr>\n",
       "  </thead>\n",
       "  <tbody>\n",
       "    <tr>\n",
       "      <th>0</th>\n",
       "      <td>331.83</td>\n",
       "      <td>1</td>\n",
       "      <td>0.038008</td>\n",
       "    </tr>\n",
       "    <tr>\n",
       "      <th>1</th>\n",
       "      <td>617.99</td>\n",
       "      <td>2</td>\n",
       "      <td>0.070784</td>\n",
       "    </tr>\n",
       "    <tr>\n",
       "      <th>2</th>\n",
       "      <td>836.33</td>\n",
       "      <td>3</td>\n",
       "      <td>0.095793</td>\n",
       "    </tr>\n",
       "    <tr>\n",
       "      <th>3</th>\n",
       "      <td>971.76</td>\n",
       "      <td>4</td>\n",
       "      <td>0.111305</td>\n",
       "    </tr>\n",
       "    <tr>\n",
       "      <th>4</th>\n",
       "      <td>1021.60</td>\n",
       "      <td>5</td>\n",
       "      <td>0.117014</td>\n",
       "    </tr>\n",
       "  </tbody>\n",
       "</table>\n",
       "</div>"
      ],
      "text/plain": [
       "   annual_h  wind_speed  probability\n",
       "0    331.83           1     0.038008\n",
       "1    617.99           2     0.070784\n",
       "2    836.33           3     0.095793\n",
       "3    971.76           4     0.111305\n",
       "4   1021.60           5     0.117014"
      ]
     },
     "execution_count": 23,
     "metadata": {},
     "output_type": "execute_result"
    }
   ],
   "source": [
    "df2[\"probability\"]=df2[\"annual_h\"]/annual_sum_2\n",
    "df2.head()"
   ]
  },
  {
   "cell_type": "code",
   "execution_count": 24,
   "metadata": {},
   "outputs": [
    {
     "data": {
      "text/plain": [
       "1.0"
      ]
     },
     "execution_count": 24,
     "metadata": {},
     "output_type": "execute_result"
    }
   ],
   "source": [
    "df2.probability.sum()"
   ]
  },
  {
   "cell_type": "markdown",
   "metadata": {},
   "source": [
    "We check that the sum of probabilities for both distributions is indeed equal to `1`."
   ]
  },
  {
   "cell_type": "markdown",
   "metadata": {},
   "source": [
    "## 4. Visualization of the Probability Distribution Functions"
   ]
  },
  {
   "cell_type": "markdown",
   "metadata": {},
   "source": [
    "### 4.1 OOP for data visualization\n",
    "Object-oriented programming (OOP) involves organizing code into objects. In OOP, each object has its own set of data (attributes) and behaviors (methods) that it can perform.\n",
    "\n",
    "Matplotlib is a Python library that allows us to create visualizations of data. It can be used to create line plots, scatter plots, bar plots, etc. In Matplotlib, we can use the object-oriented interface to create plots. This means that we create an instance of a plot type (such as a Figure or Axes object), and then use methods of that instance to customize the plot. For example, we can create a Figure object, which represents a single figure (or plot) in our visualization, and then use methods of the Figure object to add subplots, customize the axis labels, and so on.\n",
    "\n",
    "We plot both probability distributions together into one same plot of 1 row and 2 columns. We delete the spines for both plots set a new light tone color for the tick parameters. We highlight the wind speed for the largest probability by creating vertical lines and modifying their attributes. Finally we add a text note to numerically indicate the highest speed."
   ]
  },
  {
   "cell_type": "code",
   "execution_count": 25,
   "metadata": {},
   "outputs": [
    {
     "data": {
      "image/png": "[encoded data removed]",
      "text/plain": [
       "<Figure size 1080x288 with 2 Axes>"
      ]
     },
     "metadata": {
      "needs_background": "dark"
     },
     "output_type": "display_data"
    }
   ],
   "source": [
    "fig, (ax1, ax2) = plt.subplots(nrows=1, ncols=2,\n",
    "                                        figsize=(15,4))\n",
    "\n",
    "ax1.bar(df1['wind_speed'],\n",
    "        df1['probability'],\n",
    "        color='#90EE90', alpha=0.5)\n",
    "\n",
    "ax2.bar(df2['wind_speed'],\n",
    "        df2['probability'],\n",
    "        color='#FFA500', alpha= 0.5)\n",
    "\n",
    "ax1.axvline(x = 8, color = '#90EE90', alpha=1, linewidth=8, ymin=0, ymax=df1[\"probability\"][7]*10/0.8)\n",
    "ax2.axvline(x = 5, color = '#FFA500', alpha=1, linewidth=8, ymin=0, ymax=df2[\"probability\"][4]*7.95)\n",
    "\n",
    "ax1.text(7, 0.08, '8 m/s', size=11, alpha = 0.5)\n",
    "ax1.set_xlabel(\"wind speed m/s\", color=\"grey\")\n",
    "ax1.tick_params(axis='x', colors='grey')\n",
    "ax1.tick_params(axis='y', colors='grey')\n",
    "ax2.text(4, 0.125, '5 m/s', size=11, alpha = 0.5)\n",
    "ax1.set_ylabel(\"probability\", color=\"grey\")\n",
    "\n",
    "ax1.text(0, 0.09, \"First data set\", size=13, color=\"grey\")\n",
    "\n",
    "ax2.text(0, 0.14, \"Second data set\", size=13, color=\"grey\")\n",
    "ax2.tick_params(axis='x', colors='grey')\n",
    "ax2.set_xlabel(\"wind speed m/s\", color=\"grey\")\n",
    "ax2.tick_params(axis='y', colors='grey')\n",
    "ax1.text(0, 0.1, \"Probability distributions\", size=15, color=\"grey\", weight= \"bold\")\n",
    "\n",
    "for location in ['left', 'right', 'top', 'bottom']:\n",
    "    ax1.spines[location].set_visible(False)\n",
    "    ax2.spines[location].set_visible(False)"
   ]
  },
  {
   "cell_type": "markdown",
   "metadata": {},
   "source": [
    "### 4.2 Comparison of the distributions\n",
    "\n",
    "The Weibull distribution is characterized by two parameters: the shape parameter, k, and the scale parameter, λ. The shape parameter determines the shape of the distribution, and the scale parameter determines the location of the distribution.\n",
    "\n",
    "The shape of the distribution changes as the shape parameter k is varied. When k < 1, the distribution is very skewed, with a long tail on the right. When k = 1, the distribution is exponential. When 1 < k < 2, the distribution is slightly skewed. When k = 2, the distribution is symmetrical. When k > 2, the distribution is slightly skewed, with a long tail on the left.\n",
    "\n",
    "The scale parameter λ determines the location of the distribution. As λ increases, the distribution shifts to the right.\n"
   ]
  },
  {
   "cell_type": "code",
   "execution_count": 26,
   "metadata": {
    "scrolled": true
   },
   "outputs": [
    {
     "data": {
      "image/png": "[encoded data removed]",
      "text/plain": [
       "<Figure size 576x324 with 1 Axes>"
      ]
     },
     "metadata": {
      "needs_background": "dark"
     },
     "output_type": "display_data"
    }
   ],
   "source": [
    "fig, ax = plt.subplots(figsize=(8,4.5))\n",
    "ax.bar(df2['wind_speed'],\n",
    "        df2['probability'],\n",
    "        color='#FFA500', alpha=0.5)\n",
    "\n",
    "ax.bar(df1['wind_speed'],\n",
    "        df1['probability'],\n",
    "        color='#90EE90', alpha=0.5)\n",
    "\n",
    "for location in ['left', 'right', 'top', 'bottom']:\n",
    "    ax.spines[location].set_visible(False)\n",
    "    \n",
    "ax.tick_params(top=False, left=False)\n",
    "ax.tick_params(axis='x', colors='grey')\n",
    "ax.tick_params(axis='y', colors='grey')\n",
    "ax.text(x=0, y=0.125,\n",
    "        s='Wind speed probability per year',\n",
    "        weight='normal', color= \"grey\",size=15)\n",
    "\n",
    "ax.set_xlabel(\"wind speed (m/s)\", color=\"grey\")\n",
    "ax.set_ylabel(\"probability\", color=\"grey\")\n",
    "\n",
    "ax.text(x=18, y=0.105, s='λ2', weight='bold', color= \"#FFA500\",size=14)\n",
    "ax.text(x=17, y=0.105, s='>', weight='normal', color= \"grey\",size=14)\n",
    "ax.text(x=15.5, y=0.105, s='λ1', weight='bold', color= \"#90EE90\",size=14)\n",
    "\n",
    "plt.show()"
   ]
  },
  {
   "cell_type": "markdown",
   "metadata": {},
   "source": [
    "As we plot both wind distributions together we can observe that the second distribution is somewhat more skewed to the left as well as having the median value located further to the left. This leads to the assumption that the λ parameter will be larger on the first distribution. We will be checking this assumption on the upcoming section."
   ]
  },
  {
   "cell_type": "markdown",
   "metadata": {
    "id": "VmcaZ7AHu5Xb"
   },
   "source": [
    "## 5. MLE Method\n",
    "\n",
    "The maximum likelihood estimator (MLE) is a statistical method that is used to estimate the parameters of a statistical model. In the context of wind turbine modeling, the MLE might be used to estimate the parameters of a statistical model that describes the performance of a wind turbine under different wind conditions.\n",
    "\n",
    "To use the MLE to estimate the parameters of a wind distribution, we need a dataset of wind turbine performance data that includes information about the wind conditions and the corresponding turbine performance. Then we will use an optimization algorithm to find the set of model parameters that maximize the likelihood of the data given the model.\n",
    "\n",
    "The MLE is a popular method for estimating the parameters of statistical models because it has several desirable properties, such as asymptotic efficiency, meaning that it is the most efficient estimator in large sample sizes, and consistency which translates to the fact that the estimator converges to the true value of the parameter as the sample size increases.\n",
    "\n",
    "It is important to note that the MLE is only one of many methods that can be used to estimate the parameters of a statistical model. Other methods include the method of moments and the Bayesian method which I will not discuss in this project. "
   ]
  },
  {
   "cell_type": "markdown",
   "metadata": {
    "id": "zp5j5up4u5Xb"
   },
   "source": [
    "### 5.1 Mathematical resolution of the MLE"
   ]
  },
  {
   "cell_type": "markdown",
   "metadata": {},
   "source": [
    "Para la resolución de esta práctica se ha utilizado el software Matlab, que mediante la\n",
    "exportación de los datos desde un fichero Excel calcula los diferentes parámetros de la\n",
    "distribución de Weibull, necesarios para obtener la función de la distribución de densidad\n",
    "del viento (1)."
   ]
  },
  {
   "cell_type": "markdown",
   "metadata": {},
   "source": [
    "En primer lugar, se han introducido los datos de las velocidades del viento en un archivo\n",
    "Excel, utilizando una única columna. Se ha estimado sobre un total de 1000 horas, la\n",
    "cantidad entera de horas que correspondería a cada uno de los valores de velocidad en\n",
    "el rango [0-33] m/s. Se han obviado los valores de velocidad nulos. Mediante el código\n",
    "de Matlab mostrado a continuación se han calculado los parámetros de la distribución\n",
    "Weibull. Parámetro de forma, k y parámetro de escala, TEST"
   ]
  },
  {
   "cell_type": "markdown",
   "metadata": {},
   "source": [
    "Para resolver y computar los parámetros de Weibull se han utilizado modelos\n",
    "matemáticos de inferencia estadística que se presentan a continuación. Para una\n",
    "muestra aleatoria simple tenemos la expresión (2), donde 𝑇𝑖 es el vector de la muestra\n",
    "aleatoria con los valores medidos de velocidad en los archivos Excel y 𝐿(𝜃) representa\n",
    "la función de verosimilitud, con el estimador 𝜃 de máxima verosimilitud."
   ]
  },
  {
   "cell_type": "markdown",
   "metadata": {},
   "source": [
    "The maximum likelihood estimator (MLE) is a well known estimator. It is defined by\n",
    "treating our parameters as unknown values and finding the joint density of all observations\n",
    "of a data set, which are assumed to be independent and identically distributed (iid). Once the\n",
    "likelihood function is defined, the maximum of that function is found. If the data points are\n",
    "all highly likely under specific parameter values, then their product will be the “most likely”\n",
    "outcome, or the maximum likelihood. This estimator is important in statistics because of is\n",
    "asymptotic unbiasedness and minimal variance.\n",
    "Our MLE is computed by first assuming that Xi\n",
    "iid\n",
    "∼ Weibull(λ, k), with the probability given by its density function:"
   ]
  },
  {
   "cell_type": "markdown",
   "metadata": {},
   "source": [
    "<div>\n",
    "<img src=\"https://i.imgur.com/yENhgsV.png\" width=\"450\"/>\n",
    "</div>"
   ]
  },
  {
   "cell_type": "markdown",
   "metadata": {},
   "source": [
    "The joint density of the likelihood is the product of the densities of each data point."
   ]
  },
  {
   "cell_type": "markdown",
   "metadata": {},
   "source": [
    "<div>\n",
    "<img src=\"https://i.imgur.com/MYeNLsR.png\" width=\"450\"/>\n",
    "</div>"
   ]
  },
  {
   "cell_type": "markdown",
   "metadata": {},
   "source": [
    "In order to make the math somewhat simpler, the natural log of our joint density is computed.\n",
    "This can be done while still preserving the true maximum of our likelihood function because the log transformation is a monotonically increasing function."
   ]
  },
  {
   "cell_type": "markdown",
   "metadata": {},
   "source": [
    "<div>\n",
    "<img src=\"https://i.imgur.com/J5IskqM.png\" width=\"620\"/>\n",
    "</div>"
   ]
  },
  {
   "cell_type": "markdown",
   "metadata": {},
   "source": [
    "Once the likelihood function has been obtained, the function is optimized by negating it\n",
    "and finding its minimum. This is done iteratively using an optimization function `minimize` from the scipy ``library``."
   ]
  },
  {
   "cell_type": "markdown",
   "metadata": {},
   "source": [
    "Differentiating the above equation with respect to ``k`` and ``λ`` and equating to zero, we have:"
   ]
  },
  {
   "cell_type": "markdown",
   "metadata": {},
   "source": [
    "<div>\n",
    "<img src=\"https://i.imgur.com/U2djKJu.png\" width=\"120\"/>\n",
    "</div>"
   ]
  },
  {
   "cell_type": "markdown",
   "metadata": {},
   "source": [
    "<div>\n",
    "<img src=\"https://i.imgur.com/MVtUgf6.png\" width=\"500\"/>\n",
    "</div>"
   ]
  },
  {
   "cell_type": "markdown",
   "metadata": {},
   "source": [
    "<div>\n",
    "<img src=\"https://i.imgur.com/Frbaism.png\" width=\"200\"/>\n",
    "</div>"
   ]
  },
  {
   "cell_type": "markdown",
   "metadata": {},
   "source": [
    "### 5.2 MLE with Python"
   ]
  },
  {
   "cell_type": "markdown",
   "metadata": {},
   "source": [
    "SciPy is a library in Python that provides tools for optimization, linear algebra, signal and image processing, and many other computational tasks. The ``scipy.optimize`` module provides algorithms for finding the minimum or maximum of a function. It contains both local and global optimization methods, and provides a simple interface for minimizing a function with respect to some variables. In particular we will use one key function from the scipy.optimize module.\n",
    "\n",
    "The ``minimize`` function is a general-purpose optimization function that can handle a wide variety of optimization problems. It uses a variety of algorithms, including gradient descent, Newton's method, and conjugate gradient, to find the minimum of a function."
   ]
  },
  {
   "cell_type": "code",
   "execution_count": 27,
   "metadata": {
    "colab": {
     "base_uri": "https://localhost:8080/",
     "height": 363
    },
    "id": "AXkA6SFfu5Xc",
    "outputId": "aaa594f5-a848-4e5d-f605-537c6d1c933c",
    "scrolled": true
   },
   "outputs": [],
   "source": [
    "from scipy.optimize import minimize"
   ]
  },
  {
   "cell_type": "markdown",
   "metadata": {},
   "source": [
    "We define a function containing the Weibull PDF with pandas methods as it will accept values from the our DataFrame."
   ]
  },
  {
   "cell_type": "code",
   "execution_count": 28,
   "metadata": {
    "colab": {
     "base_uri": "https://localhost:8080/",
     "height": 363
    },
    "id": "Ttx2CCbCu5Xd",
    "outputId": "824710fc-1d6c-499d-9830-7ec80c599e81"
   },
   "outputs": [],
   "source": [
    "def weibull_function(x, k, λ):\n",
    "    p = ((k/λ)*(x/λ)**(k-1))* np.exp(-(x/λ)**k)\n",
    "    return p"
   ]
  },
  {
   "cell_type": "markdown",
   "metadata": {
    "id": "1KnRjWQgu5Xe"
   },
   "source": [
    "#### 5.2.1 Mean Squared Error\n",
    "\n",
    "Mean squared error (MSE) is a measure of the difference between the values predicted by a model and the true values. It is often used as a loss function in machine learning algorithms, and is defined as the average squared difference between the predicted values and the true values.\n",
    "\n",
    "The MSE is calculated as:\n"
   ]
  },
  {
   "attachments": {
    "image.png": {
     "image/png": "[encoded data removed]"
    }
   },
   "cell_type": "markdown",
   "metadata": {},
   "source": [
    "![image.png](attachment:image.png)"
   ]
  },
  {
   "cell_type": "markdown",
   "metadata": {},
   "source": [
    "where n is the number of samples and the summation is over all samples.\n",
    "\n",
    "The MSE is a continuous, positive, and squared value, so it is always non-negative and the smaller the MSE, the better the model's predictions."
   ]
  },
  {
   "cell_type": "markdown",
   "metadata": {},
   "source": [
    "Below we define a function for the MSE that returns the sum of the overall difference between the predicted and the actual values of the Weibull distribution. The minimize function is called with the ``fun`` parameter being the ``MSE`` function. The tuple attribute represents the initial guess for better convergence."
   ]
  },
  {
   "cell_type": "code",
   "execution_count": 29,
   "metadata": {},
   "outputs": [
    {
     "name": "stdout",
     "output_type": "stream",
     "text": [
      "      fun: 9.756832434611998e-08\n",
      " hess_inv: array([[ 45.589547  , -20.93939581],\n",
      "       [-20.93939581, 705.57807822]])\n",
      "      jac: array([ 8.11549789e-07, -3.22980246e-06])\n",
      "  message: 'Optimization terminated successfully.'\n",
      "     nfev: 108\n",
      "      nit: 27\n",
      "     njev: 36\n",
      "   status: 0\n",
      "  success: True\n",
      "        x: array([ 2.00154379, 11.3407152 ])\n"
     ]
    }
   ],
   "source": [
    "def MSE(values, x, y):\n",
    "    # minimize the mean-squared error (MSE)\n",
    "    return ((y-weibull_function(x, *values)) **2).sum()\n",
    "\n",
    "# prepare features\n",
    "X = df1[\"wind_speed\"]\n",
    "y = df1[\"probability\"]\n",
    "\n",
    "m1 = minimize(MSE, [1, 2], args=(X, y)) \n",
    "print(m1)"
   ]
  },
  {
   "cell_type": "code",
   "execution_count": 30,
   "metadata": {
    "colab": {
     "base_uri": "https://localhost:8080/"
    },
    "id": "9GS9b2lLu5Xi",
    "outputId": "caef1e1d-eec3-4f06-a34a-d4411f892d7e",
    "scrolled": true
   },
   "outputs": [
    {
     "name": "stdout",
     "output_type": "stream",
     "text": [
      "The k value for this Weibull distribution is: 2.0015437867810455\n",
      "The c value for this Weibull distribution is: 11.340715195914363\n"
     ]
    }
   ],
   "source": [
    "print(f\"The k value for this Weibull distribution is: {m1.x[0]}\")\n",
    "print(f\"The c value for this Weibull distribution is: {m1.x[1]}\")"
   ]
  },
  {
   "cell_type": "markdown",
   "metadata": {},
   "source": [
    "We can now observe a change in the parameters of the distributions of the remaining data. The mean values have remained fairly equal for the `Axis` and `Feed` columns but it has improved considerably for the `Path` column. In terms of the standard deviation, all three have been reduced, which means the data is now more densily clustered. We have reduced the size of our dataset from 220 to 218 counts, which doesn't involve a great loss of data."
   ]
  },
  {
   "cell_type": "code",
   "execution_count": 31,
   "metadata": {
    "scrolled": true
   },
   "outputs": [
    {
     "data": {
      "application/vnd.jupyter.widget-view+json": {
       "model_id": "3fa5d5d0ec58444d921ec3e50002f729",
       "version_major": 2,
       "version_minor": 0
      },
      "text/plain": [
       "interactive(children=(FloatSlider(value=2.0015437867810455, description='k', max=6.0, min=-1.0, step=0.001), F…"
      ]
     },
     "metadata": {},
     "output_type": "display_data"
    }
   ],
   "source": [
    "x = np.arange(0, 33, 0.1)\n",
    "\n",
    "@interact(k=(-1, 6.0, 0.001), λ=(0, 15, 0.001))\n",
    "def plot_weibull(k=m1.x[0], λ=m1.x[1]):\n",
    "    \n",
    "    weibull = weibull_function(x, k, λ)  # Creating a line using your function and the values given\n",
    "\n",
    "    plt.plot(x, weibull, '-', color='magenta', linewidth=2, alpha=0.6)\n",
    "    sns.scatterplot(data=df1, x='wind_speed', y='probability', s=150, color=\"#90EE90\")\n",
    "    plt.ylim([0, 0.09])\n",
    "    plt.xlim([-0.5, 33])"
   ]
  },
  {
   "cell_type": "code",
   "execution_count": 32,
   "metadata": {},
   "outputs": [
    {
     "name": "stdout",
     "output_type": "stream",
     "text": [
      "      fun: 6.635745179758211e-07\n",
      " hess_inv: array([[ 30.54766103,  -6.07879751],\n",
      "       [ -6.07879751, 184.85205185]])\n",
      "      jac: array([ 5.18422688e-07, -3.38447727e-07])\n",
      "  message: 'Optimization terminated successfully.'\n",
      "     nfev: 75\n",
      "      nit: 14\n",
      "     njev: 25\n",
      "   status: 0\n",
      "  success: True\n",
      "        x: array([1.98315027, 7.29565941])\n"
     ]
    }
   ],
   "source": [
    "X = df2[\"wind_speed\"]\n",
    "y = df2[\"probability\"]\n",
    "\n",
    "m2 = minimize(MSE, [1, 2], args=(X, y))  #[1, 2] represents the initial guess!\n",
    "print(m2)"
   ]
  },
  {
   "cell_type": "code",
   "execution_count": 33,
   "metadata": {},
   "outputs": [
    {
     "name": "stdout",
     "output_type": "stream",
     "text": [
      "The k value for this Weibull distribution is: 1.9831502729015662\n",
      "The λ value for this Weibull distribution is: 7.295659412732497\n"
     ]
    }
   ],
   "source": [
    "print(f\"The k value for this Weibull distribution is: {m2.x[0]}\")\n",
    "print(f\"The λ value for this Weibull distribution is: {m2.x[1]}\")"
   ]
  },
  {
   "cell_type": "code",
   "execution_count": 34,
   "metadata": {},
   "outputs": [
    {
     "data": {
      "application/vnd.jupyter.widget-view+json": {
       "model_id": "e325107b8b1e4554ad1ec435260dcd70",
       "version_major": 2,
       "version_minor": 0
      },
      "text/plain": [
       "interactive(children=(FloatSlider(value=1.9831502729015662, description='k', max=6.0, min=-1.0, step=0.001), F…"
      ]
     },
     "metadata": {},
     "output_type": "display_data"
    }
   ],
   "source": [
    "x = np.arange(0, 33, 0.1)\n",
    "\n",
    "@interact(k=(-1, 6.0, 0.001), λ=(0, 15, 0.001))\n",
    "def plot_weibull(k=m2.x[0], λ=m2.x[1]):\n",
    "    \n",
    "    weibull = weibull_function(x, k, λ)  # Creating a line using your function and the values given\n",
    "\n",
    "    plt.plot(x, weibull, '-', color='aqua', linewidth=2, alpha=0.5)\n",
    "    sns.scatterplot(data=df2, x='wind_speed', y='probability', s=150, color=\"#FFA500\")\n",
    "    plt.ylim([0, 0.12])\n",
    "    plt.xlim([-0.5, 33])"
   ]
  },
  {
   "cell_type": "markdown",
   "metadata": {},
   "source": [
    "### 5.3 Classification of the datasets\n",
    "\n",
    "Dataset 1:\n",
    "Onshore wind distributions typically have higher wind speeds compared to offshore wind distributions. The shape parameter of the Weibull distribution of an onshore wind distribution tends to be larger than 1, which indicates that the wind speed frequency distribution is more spread out and has a longer tail. The scale parameter is also larger, indicating higher average wind speeds. The location parameter is relatively low, indicating that the minimum wind speed is not as low as it would be in an offshore wind distribution.\n",
    "\n",
    "Dataset 2:\n",
    "Offshore wind distributions tend to have lower wind speeds compared to onshore wind distributions. The shape parameter of the Weibull distribution of an offshore wind distribution tends to be smaller than 1, which indicates that the wind speed frequency distribution is more concentrated and has a shorter tail. The scale parameter is also smaller, indicating lower average wind speeds. The location parameter is relatively high, indicating that the minimum wind speed is higher than it would be in an onshore wind distribution.\n",
    "\n",
    "In conclusion, the Weibull parameters of a wind distribution provide important information about the wind speeds at a particular location and help determine the most suitable wind turbine for that location. An onshore wind distribution would require a wind turbine with a larger rotor and a taller tower, while an offshore wind distribution would require a wind turbine with a smaller rotor and a shorter tower."
   ]
  },
  {
   "cell_type": "markdown",
   "metadata": {
    "id": "hdBJDZlqu5Xk"
   },
   "source": [
    "## 6. Power curve\n",
    "\n",
    "A power curve is a graph that shows the relationship between the wind speed and the power output of a wind turbine. The power curve is an important tool for understanding the performance of a wind turbine and for designing and operating wind farms.\n",
    "\n",
    "The power curve of a wind turbine typically shows how the power output of the turbine increases with increasing wind speed. The power output of a wind turbine is limited by the size of the turbine and the efficiency of its blades, so the power curve will typically reach a maximum value at some point and then plateau. The shape of the power curve depends on the design of the wind turbine and the characteristics of the wind resource at the site where the turbine is located. Wind turbines are designed to operate at a specific range of wind speeds, and the power curve will typically be steeper in the middle of this range, where the wind speeds are optimal for power production.\n",
    "\n",
    "The power curve is an important tool for wind turbine designers, operators, and regulators, as it provides information about the performance of the turbine and helps to ensure that it is operating efficiently and safely. It is also an important factor to consider when siting and designing wind farms, as it helps to determine the overall power output of the wind farm and the land area required to support it."
   ]
  },
  {
   "cell_type": "markdown",
   "metadata": {
    "id": "Ppi0r6oeu5Xl"
   },
   "source": [
    "### 6.1 Wind turbine model"
   ]
  },
  {
   "cell_type": "markdown",
   "metadata": {},
   "source": [
    "The [Alstom ECO 110](https://en.wind-turbine-models.com/turbines/792-alstom-eco-110) is a wind turbine with a rated power of 3 megawatts (MW). It is a horizontal axis wind turbine (HAWT) designed for large wind farms. This turbine is equipped with advanced technology and features to optimize energy production and increase its efficiency. The Alstom ECO 110 has a rotor diameter of 110 meters and a hub height of 80 meters, making it capable of capturing wind from a large area. Additionally, it features a modular design that allows for quick and easy maintenance, reducing downtime and increasing the overall productivity of the wind farm. The Alstom ECO 110 is a reliable and efficient wind turbine, making it a popular choice for many wind energy projects."
   ]
  },
  {
   "cell_type": "markdown",
   "metadata": {},
   "source": [
    "We proceed to create a power curve of a wind turbine based on the wind speed data stored in the dataframe ``df1``. The code iterates through the wind speeds stored in the column ``wind_speed`` and calculates the power output of the wind turbine at each wind speed. The resulting power values are stored in the ``power`` column of the dataframe and can be used to graph the power curve of the wind turbine."
   ]
  },
  {
   "cell_type": "code",
   "execution_count": 35,
   "metadata": {},
   "outputs": [],
   "source": [
    "df1[\"power\"] = 0"
   ]
  },
  {
   "cell_type": "code",
   "execution_count": 36,
   "metadata": {
    "scrolled": true
   },
   "outputs": [
    {
     "name": "stderr",
     "output_type": "stream",
     "text": [
      "<ipython-input-36-3f2d0ded3c81>:10: SettingWithCopyWarning: \n",
      "A value is trying to be set on a copy of a slice from a DataFrame\n",
      "\n",
      "See the caveats in the documentation: https://pandas.pydata.org/pandas-docs/stable/user_guide/indexing.html#returning-a-view-versus-a-copy\n",
      "  df1[\"power\"][s] = 0\n",
      "<ipython-input-36-3f2d0ded3c81>:4: SettingWithCopyWarning: \n",
      "A value is trying to be set on a copy of a slice from a DataFrame\n",
      "\n",
      "See the caveats in the documentation: https://pandas.pydata.org/pandas-docs/stable/user_guide/indexing.html#returning-a-view-versus-a-copy\n",
      "  df1[\"power\"][s] = ((1000 / 3) * s - 1000)\n"
     ]
    }
   ],
   "source": [
    "for s in df1[\"wind_speed\"]:\n",
    "    \n",
    "    if (s >= 3) & (s <= 12):\n",
    "        df1[\"power\"][s] = ((1000 / 3) * s - 1000)\n",
    "        \n",
    "    elif (s > 12) & (s <= 25):\n",
    "        df1[\"power\"][s] = 3000\n",
    "        \n",
    "    else:\n",
    "        df1[\"power\"][s] = 0"
   ]
  },
  {
   "cell_type": "markdown",
   "metadata": {},
   "source": [
    "### 6.2 Plotting of the wind curve "
   ]
  },
  {
   "cell_type": "code",
   "execution_count": 37,
   "metadata": {},
   "outputs": [
    {
     "data": {
      "image/png": "[encoded data removed]",
      "text/plain": [
       "<Figure size 576x216 with 1 Axes>"
      ]
     },
     "metadata": {
      "needs_background": "dark"
     },
     "output_type": "display_data"
    }
   ],
   "source": [
    "fig, ax = plt.subplots(figsize=(8,3))\n",
    "plt.ylim(0, 3500)\n",
    "plt.xlim(0, 33)\n",
    "ax.axvline(x = 25, color = 'b', alpha=0.3, linewidth=3, ymin=0, ymax=3000/3500)\n",
    "ax.axhline(y = 3000, color = 'b', alpha=0.3, linewidth=3, xmin=12/33, xmax=25/33)\n",
    "ax.axhline(y = 10, color = 'b', alpha=0.3, linewidth=3, xmin=25/33, xmax=1)\n",
    "ax.plot(df1['wind_speed'][:12], df1['power'][:12],\n",
    "            color='b', alpha=0.3, linewidth = 3)\n",
    "\n",
    "ax.tick_params(top=False, left=False)\n",
    "ax.tick_params(axis='x', colors='grey')\n",
    "ax.tick_params(axis='y', colors='grey')\n",
    "ax.text(x=0, y=4000,\n",
    "        s='Power curve Alstom ECO 110 3MW',\n",
    "        weight='normal', color= \"grey\",size=15)\n",
    "\n",
    "ax.set_xlabel(\"wind speed (m/s)\", color=\"grey\")\n",
    "ax.set_ylabel(\"Power (kW)\", color=\"grey\")\n",
    "plt.show()"
   ]
  },
  {
   "cell_type": "markdown",
   "metadata": {},
   "source": [
    "### 6.3 Energy yield per annum"
   ]
  },
  {
   "cell_type": "markdown",
   "metadata": {},
   "source": [
    "We conduct a simple product calculation in order to calculate the yearly energy generation and we store in a new column."
   ]
  },
  {
   "cell_type": "code",
   "execution_count": 38,
   "metadata": {},
   "outputs": [
    {
     "data": {
      "text/html": [
       "<div>\n",
       "<style scoped>\n",
       "    .dataframe tbody tr th:only-of-type {\n",
       "        vertical-align: middle;\n",
       "    }\n",
       "\n",
       "    .dataframe tbody tr th {\n",
       "        vertical-align: top;\n",
       "    }\n",
       "\n",
       "    .dataframe thead th {\n",
       "        text-align: right;\n",
       "    }\n",
       "</style>\n",
       "<table border=\"1\" class=\"dataframe\">\n",
       "  <thead>\n",
       "    <tr style=\"text-align: right;\">\n",
       "      <th></th>\n",
       "      <th>annual_h</th>\n",
       "      <th>wind_speed</th>\n",
       "      <th>probability</th>\n",
       "      <th>power</th>\n",
       "      <th>energy</th>\n",
       "    </tr>\n",
       "  </thead>\n",
       "  <tbody>\n",
       "    <tr>\n",
       "      <th>1</th>\n",
       "      <td>134.99</td>\n",
       "      <td>1</td>\n",
       "      <td>0.015434</td>\n",
       "      <td>0.000000</td>\n",
       "      <td>0.000000</td>\n",
       "    </tr>\n",
       "    <tr>\n",
       "      <th>2</th>\n",
       "      <td>263.76</td>\n",
       "      <td>2</td>\n",
       "      <td>0.030157</td>\n",
       "      <td>0.000000</td>\n",
       "      <td>0.000000</td>\n",
       "    </tr>\n",
       "    <tr>\n",
       "      <th>3</th>\n",
       "      <td>380.58</td>\n",
       "      <td>3</td>\n",
       "      <td>0.043514</td>\n",
       "      <td>0.000000</td>\n",
       "      <td>0.000000</td>\n",
       "    </tr>\n",
       "    <tr>\n",
       "      <th>4</th>\n",
       "      <td>480.59</td>\n",
       "      <td>4</td>\n",
       "      <td>0.054948</td>\n",
       "      <td>333.333333</td>\n",
       "      <td>160.196667</td>\n",
       "    </tr>\n",
       "    <tr>\n",
       "      <th>5</th>\n",
       "      <td>560.19</td>\n",
       "      <td>5</td>\n",
       "      <td>0.064049</td>\n",
       "      <td>666.666667</td>\n",
       "      <td>373.460000</td>\n",
       "    </tr>\n",
       "    <tr>\n",
       "      <th>6</th>\n",
       "      <td>617.19</td>\n",
       "      <td>6</td>\n",
       "      <td>0.070566</td>\n",
       "      <td>1000.000000</td>\n",
       "      <td>617.190000</td>\n",
       "    </tr>\n",
       "    <tr>\n",
       "      <th>7</th>\n",
       "      <td>650.92</td>\n",
       "      <td>7</td>\n",
       "      <td>0.074423</td>\n",
       "      <td>1333.333333</td>\n",
       "      <td>867.893333</td>\n",
       "    </tr>\n",
       "    <tr>\n",
       "      <th>8</th>\n",
       "      <td>662.12</td>\n",
       "      <td>8</td>\n",
       "      <td>0.075703</td>\n",
       "      <td>1666.666667</td>\n",
       "      <td>1103.533333</td>\n",
       "    </tr>\n",
       "    <tr>\n",
       "      <th>9</th>\n",
       "      <td>652.77</td>\n",
       "      <td>9</td>\n",
       "      <td>0.074634</td>\n",
       "      <td>2000.000000</td>\n",
       "      <td>1305.540000</td>\n",
       "    </tr>\n",
       "    <tr>\n",
       "      <th>10</th>\n",
       "      <td>625.81</td>\n",
       "      <td>10</td>\n",
       "      <td>0.071552</td>\n",
       "      <td>2333.333333</td>\n",
       "      <td>1460.223333</td>\n",
       "    </tr>\n",
       "    <tr>\n",
       "      <th>11</th>\n",
       "      <td>584.82</td>\n",
       "      <td>11</td>\n",
       "      <td>0.066865</td>\n",
       "      <td>2666.666667</td>\n",
       "      <td>1559.520000</td>\n",
       "    </tr>\n",
       "    <tr>\n",
       "      <th>12</th>\n",
       "      <td>533.64</td>\n",
       "      <td>12</td>\n",
       "      <td>0.061014</td>\n",
       "      <td>3000.000000</td>\n",
       "      <td>1600.920000</td>\n",
       "    </tr>\n",
       "    <tr>\n",
       "      <th>13</th>\n",
       "      <td>476.10</td>\n",
       "      <td>13</td>\n",
       "      <td>0.054435</td>\n",
       "      <td>3000.000000</td>\n",
       "      <td>1428.300000</td>\n",
       "    </tr>\n",
       "  </tbody>\n",
       "</table>\n",
       "</div>"
      ],
      "text/plain": [
       "    annual_h  wind_speed  probability        power       energy\n",
       "1     134.99           1     0.015434     0.000000     0.000000\n",
       "2     263.76           2     0.030157     0.000000     0.000000\n",
       "3     380.58           3     0.043514     0.000000     0.000000\n",
       "4     480.59           4     0.054948   333.333333   160.196667\n",
       "5     560.19           5     0.064049   666.666667   373.460000\n",
       "6     617.19           6     0.070566  1000.000000   617.190000\n",
       "7     650.92           7     0.074423  1333.333333   867.893333\n",
       "8     662.12           8     0.075703  1666.666667  1103.533333\n",
       "9     652.77           9     0.074634  2000.000000  1305.540000\n",
       "10    625.81          10     0.071552  2333.333333  1460.223333\n",
       "11    584.82          11     0.066865  2666.666667  1559.520000\n",
       "12    533.64          12     0.061014  3000.000000  1600.920000\n",
       "13    476.10          13     0.054435  3000.000000  1428.300000"
      ]
     },
     "execution_count": 38,
     "metadata": {},
     "output_type": "execute_result"
    }
   ],
   "source": [
    "df1[\"energy\"] = df1[\"power\"] * df1[\"annual_h\"]/1000\n",
    "df1.head(13)"
   ]
  },
  {
   "cell_type": "code",
   "execution_count": 63,
   "metadata": {},
   "outputs": [
    {
     "data": {
      "image/png": "[encoded data removed]",
      "text/plain": [
       "<Figure size 576x324 with 1 Axes>"
      ]
     },
     "metadata": {
      "needs_background": "dark"
     },
     "output_type": "display_data"
    }
   ],
   "source": [
    "fig, ax = plt.subplots(figsize=(8,4.5))\n",
    "ax.bar(df1['wind_speed'],\n",
    "        df1['energy'],\n",
    "        color='#90EE90', alpha = 0.5)\n",
    "for location in ['left', 'right', 'top', 'bottom']:\n",
    "    ax.spines[location].set_visible(False)\n",
    "ax.axvline(x = 12, color = '#90EE90', alpha=1, linewidth=10, ymin=0, ymax=df1[\"probability\"][7]*10/0.8)\n",
    "    \n",
    "ax.tick_params(top=False, left=False)\n",
    "ax.tick_params(axis='x', colors='grey')\n",
    "ax.tick_params(axis='y', colors='grey')\n",
    "ax.text(x=0, y=1750,\n",
    "        s='Energy generation per year',\n",
    "        weight='normal', size=15, color=\"grey\")\n",
    "\n",
    "ax.set_xlabel(\"wind speed (m/s)\", color=\"grey\")\n",
    "ax.set_ylabel(\"Energy (MWh)\", color=\"grey\")\n",
    "plt.show()"
   ]
  },
  {
   "cell_type": "markdown",
   "metadata": {},
   "source": [
    "In conclusion, the wind turbine model Alstom ECO 110 may not be the best choice for the data gathered on the dataframe 1 ``df1``, even though its Weibull distribution parameters match the data. The maximum energy generation range for the Alstom ECO 110 is between 12 and 25 m/s, but the average speed of the wind data is located around 8 m/s, which is outside of the optimal range for the model. This means that the Alstom ECO 110 may not be able to generate energy in the most efficient way at the average wind speeds present in the data, which is an important consideration when selecting a wind turbine model. As such, it may be necessary to consider alternative wind turbine models that better fit the wind data, in order to maximize the energy generation output and thus the overall efficiency."
   ]
  }
 ],
 "metadata": {
  "colab": {
   "provenance": [],
   "toc_visible": true
  },
  "kernelspec": {
   "display_name": "Python 3",
   "language": "python",
   "name": "python3"
  },
  "language_info": {
   "codemirror_mode": {
    "name": "ipython",
    "version": 3
   },
   "file_extension": ".py",
   "mimetype": "text/x-python",
   "name": "python",
   "nbconvert_exporter": "python",
   "pygments_lexer": "ipython3",
   "version": "3.8.8"
  },
  "varInspector": {
   "cols": {
    "lenName": 16,
    "lenType": 16,
    "lenVar": 40
   },
   "kernels_config": {
    "python": {
     "delete_cmd_postfix": "",
     "delete_cmd_prefix": "del ",
     "library": "var_list.py",
     "varRefreshCmd": "print(var_dic_list())"
    },
    "r": {
     "delete_cmd_postfix": ") ",
     "delete_cmd_prefix": "rm(",
     "library": "var_list.r",
     "varRefreshCmd": "cat(var_dic_list()) "
    }
   },
   "types_to_exclude": [
    "module",
    "function",
    "builtin_function_or_method",
    "instance",
    "_Feature"
   ],
   "window_display": false
  }
 },
 "nbformat": 4,
 "nbformat_minor": 1
}
